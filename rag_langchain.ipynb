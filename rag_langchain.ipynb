{
 "cells": [
  {
   "cell_type": "code",
   "execution_count": 2,
   "metadata": {},
   "outputs": [
    {
     "data": {
      "text/plain": [
       "True"
      ]
     },
     "execution_count": 2,
     "metadata": {},
     "output_type": "execute_result"
    }
   ],
   "source": [
    "import os\n",
    "import dotenv\n",
    "from pathlib import Path\n",
    "\n",
    "from langchain_core.messages import AIMessage, HumanMessage\n",
    "from langchain_community.document_loaders.text import TextLoader\n",
    "from langchain_community.document_loaders import (\n",
    "    WebBaseLoader, \n",
    "    PyPDFLoader, \n",
    "    Docx2txtLoader,\n",
    ")\n",
    "from langchain_community.vectorstores import Chroma\n",
    "from langchain.text_splitter import RecursiveCharacterTextSplitter\n",
    "from langchain_openai import OpenAIEmbeddings, ChatOpenAI\n",
    "from langchain_anthropic import ChatAnthropic\n",
    "from langchain_core.prompts import ChatPromptTemplate, MessagesPlaceholder\n",
    "from langchain.chains import create_history_aware_retriever, create_retrieval_chain\n",
    "from langchain.chains.combine_documents import create_stuff_documents_chain\n",
    "\n",
    "dotenv.load_dotenv()"
   ]
  },
  {
   "cell_type": "code",
   "execution_count": 3,
   "metadata": {},
   "outputs": [],
   "source": [
    "# Load docs\n",
    "\n",
    "doc_paths = [\n",
    "    \"docs/test_rag.pdf\",\n",
    "    \"docs/test_rag.docx\",\n",
    "]\n",
    "\n",
    "docs = [] \n",
    "for doc_file in doc_paths:\n",
    "    file_path = Path(doc_file)\n",
    "\n",
    "    try:\n",
    "        if doc_file.endswith(\".pdf\"):\n",
    "            loader = PyPDFLoader(file_path)\n",
    "        elif doc_file.endswith(\".docx\"):\n",
    "            loader = Docx2txtLoader(file_path)\n",
    "        elif doc_file.endswith(\".txt\") or doc_file.name.endswith(\".md\"):\n",
    "            loader = TextLoader(file_path)\n",
    "        else:\n",
    "            print(f\"Document type {doc_file.type} not supported.\")\n",
    "            continue\n",
    "\n",
    "        docs.extend(loader.load())\n",
    "\n",
    "    except Exception as e:\n",
    "        print(f\"Error loading document {doc_file.name}: {e}\")\n",
    "#    finally:                       # from 10:28 in first video, will be un-commented later\n",
    "#        os.remove(file_path)       # from 10:28 in first video, will be un-commented later\n",
    "\n",
    "# Load URLs\n",
    "\n",
    "url = \"https://docs.streamlit.io/develop/quick-reference/release-notes\"\n",
    "try:\n",
    "    loader = WebBaseLoader(url)\n",
    "    docs.extend(loader.load())\n",
    "\n",
    "except Exception as e:\n",
    "    print(f\"Error loading document from {url}: {e}\")"
   ]
  },
  {
   "cell_type": "code",
   "execution_count": 4,
   "metadata": {},
   "outputs": [
    {
     "data": {
      "text/plain": [
       "[Document(metadata={'producer': 'Microsoft® Word for Microsoft 365', 'creator': 'Microsoft® Word for Microsoft 365', 'creationdate': '2024-09-15T19:40:36+02:00', 'msip_label_1cf2ba15-c468-47c8-b178-cba8acf110ec_siteid': 'eb25818e-5bd5-49bf-99de-53e3e7b42630', 'msip_label_1cf2ba15-c468-47c8-b178-cba8acf110ec_method': 'Standard', 'msip_label_1cf2ba15-c468-47c8-b178-cba8acf110ec_enabled': 'True', 'author': 'Domingo Domènech Enric (ERNI)', 'moddate': '2024-09-15T19:40:36+02:00', 'source': 'docs/test_rag.pdf', 'total_pages': 1, 'page': 0, 'page_label': '1'}, page_content='My favorite food is margarita pizza. \\nThere are 47588 bottles in the truck.'),\n",
       " Document(metadata={'source': 'docs/test_rag.docx'}, page_content='My favorite food is margarita pizza.\\n\\nThere are 47588 bottles in the truck.'),\n",
       " Document(metadata={'source': 'https://docs.streamlit.io/develop/quick-reference/release-notes', 'title': 'Release notes - Streamlit Docs', 'description': 'A changelog of highlights and fixes for each version of Streamlit.', 'language': 'No language found.'}, page_content='Release notes - Streamlit DocsDocumentationsearchSearchrocket_launchGet startedInstallationaddFundamentalsaddFirst stepsaddcodeDevelopConceptsaddAPI referenceaddTutorialsaddQuick referenceremoveCheat sheetRelease notesremove2025202420232022202120202019Pre-release featuresRoadmapopen_in_newweb_assetDeployConceptsaddStreamlit Community CloudaddSnowflakeOther platformsaddschoolKnowledge baseFAQInstalling dependenciesDeployment issuesHome/Develop/Quick reference/Release notesRelease notes\\nThis page lists highlights, bug fixes, and known issues for the latest release of Streamlit. If you\\'re looking for information about nightly releases or experimental features, see Pre-release features.\\nUpgrade Streamlit\\nstarTipTo upgrade to the latest version of Streamlit, run:pip install --upgrade streamlit\\n\\nVersion 1.43.0 (latest)\\nRelease date: March 4, 2025\\nHighlights\\n\\n📁\\xa0Announcing the option to accept files with st.chat_input!\\n📒 Introducing a new column type for column configuration! Use JsonColumn to show JSON-compatible objects.\\n\\nNotable Changes\\n\\n🏃\\xa0You can prevent st.download_button from triggering a rerun by setting on_click=\"ignore\" (#10296, #4382).\\n🕑\\xa0You can access a user\\'s timezone and timezone offset through st.context (#10336).\\n↕️\\xa0You can configure the row height in st.dataframe and st.data_editor with a new parameter (#9549, #7266, #8632, #5386).\\n💅\\xa0st.dataframe and st.data_editor use use_container_width=True by default (#10434).\\n🤏\\xa0Markdown has a small text directive (#10487, #10486).\\n🧵\\xa0You can pass strings, paths, and callables to st.navigation in place of StreamlitPage objects for convenience (#10358, #10069). Thanks, ashm-dev!\\n📈\\xa0Streamlit has a new custom component, streamlit-bokeh, to support the latest version of Bokeh (#10374, #5858).\\n🔣\\xa0NumberColumn, ProgressColumn, DatetimeColumn, DateColumn, and TimeColumn have preconfigured format options for ease of use (#10179, #8788, #7702).\\n🛎️\\xa0Static file serving supports files with JSON, XML, and common font file extensions. (#10417,\\xa0#10335,\\xa0#10337,\\xa0#10302).\\n\\nOther Changes\\n\\n🥷\\xa0Users can hide dataframe columns (#10264, #6870).\\n📅\\xa0Users can change the format of numbers, dates, and times in dataframes (#10420).\\n↔️\\xa0Users can auto-size column widths (#10476).\\n🐻\\u200d❄️\\xa0Streamlit supports Polars dataframe and series hashing (#10408, #10347).\\n☠️\\xa0rich is no longer a required dependency for Streamlit (#10320).\\n🦋\\xa0st.file_uploader has a better display format in narrow containers (#10272).\\n🦎\\xa0Bug fix: Tabs are prevented from having a width of zero to prevent flickering (#10533).\\n🐌\\xa0Bug fix: Column order is correctly displayed when set in column configuration (#10445, #10442).\\n🕸️\\xa0Bug fix: We updated dataframe null handling to prevent deprecation warnings (#10484).\\n🦗\\xa0Bug fix: Elapsed time doesn\\'t overflow for st.audio_input (#10410, #10373). Thanks, ashm-dev!\\n🦂\\xa0Bug fix: st.altair_chart does not show an incorrect \"true\" tooltip when the user makes a selection (#10456, #10448).\\n🦟\\xa0Bug fix: Streamlit does not raise a RuntimeError when an asyncio event loop is not already running (#10455, #10452).\\n🦠\\xa0Bug fix: The key for an internal MIME type is set correctly to avoid a browser warning (#10404).\\n🪰\\xa0Bug fix: st.data_editor automatically scrolls to the bottom when a user adds a row (#10405, #10351).\\n🪳\\xa0Bug fix: Tooltips are suppressed on user-added rows in st.data_editor to prevent erroneous warnings (#10398).\\n🕷️\\xa0Bug fix: st.logo displays consistently when used with fragments and dialogs (#10377, #10350, #10382).\\n🐞\\xa0Bug fix: st.graphviz_chart has rounded corners for consistent style (#10224).\\n🐝\\xa0Bug fix: Streamlit raises a clear exception when an underscore is used in provider for st.login (#10360, #10356).\\n🐜\\xa0Bug fix: The dataframe column menu displays correctly inside dialogs (#10359, #10357).\\n🪲\\xa0Bug fix: Exception handling was adjusted for improved compatibility with Cython (#10354, #10353). Thanks, tutu-sol!\\n🐛\\xa0Bug fix: st.pills and st.segmented_control have consistent font sizes across browsers (#10349).\\n\\nOlder versions of Streamlit\\n\\n2025 release notes\\n2024 release notes\\n2023 release notes\\n2022 release notes\\n2021 release notes\\n2020 release notes\\n2019 release notes\\nPrevious: Cheat sheetNext: 2025forumStill have questions?Our forums are full of helpful information and Streamlit experts.HomeContact UsCommunity© 2025 Snowflake Inc.Cookie policyforum Ask AI')]"
      ]
     },
     "execution_count": 4,
     "metadata": {},
     "output_type": "execute_result"
    }
   ],
   "source": [
    "docs"
   ]
  },
  {
   "cell_type": "code",
   "execution_count": 5,
   "metadata": {},
   "outputs": [],
   "source": [
    "# Split docs\n",
    "\n",
    "text_splitter = RecursiveCharacterTextSplitter(\n",
    "    chunk_size=5000,\n",
    "    chunk_overlap=1000,\n",
    ")\n",
    "\n",
    "document_chunks = text_splitter.split_documents(docs)"
   ]
  },
  {
   "cell_type": "code",
   "execution_count": 6,
   "metadata": {},
   "outputs": [],
   "source": [
    "# Tokenize and load the documents to the vector store\n",
    "\n",
    "vector_db = Chroma.from_documents(\n",
    "    documents=document_chunks,\n",
    "    embedding=OpenAIEmbeddings(),\n",
    ")"
   ]
  },
  {
   "cell_type": "code",
   "execution_count": 7,
   "metadata": {},
   "outputs": [],
   "source": [
    "# Retrieve\n",
    "\n",
    "def _get_context_retriever_chain(vector_db, llm):\n",
    "    retriever = vector_db.as_retriever()\n",
    "    prompt = ChatPromptTemplate.from_messages([\n",
    "        MessagesPlaceholder(variable_name=\"messages\"),\n",
    "        (\"user\", \"{input}\"),\n",
    "        (\"user\", \"Given the above conversation, generate a search query to look up in order to get inforamtion relevant to the conversation, focusing on the most recent messages.\"),\n",
    "    ])\n",
    "    retriever_chain = create_history_aware_retriever(llm, retriever, prompt)\n",
    "\n",
    "    return retriever_chain"
   ]
  },
  {
   "cell_type": "code",
   "execution_count": 8,
   "metadata": {},
   "outputs": [],
   "source": [
    "def get_conversational_rag_chain(llm):\n",
    "    retriever_chain = _get_context_retriever_chain(vector_db, llm)\n",
    "\n",
    "    prompt = ChatPromptTemplate.from_messages([\n",
    "        (\"system\",\n",
    "        \"\"\"You are a helpful assistant. You will have to answer to user's queries.\n",
    "        You will have some context to help with your answers, but now always would be completely related or helpful.\n",
    "        You can also use your knowledge to assist answering the user's queries.\\n\n",
    "        {context}\"\"\"),\n",
    "        MessagesPlaceholder(variable_name=\"messages\"),\n",
    "        (\"user\", \"{input}\"),\n",
    "    ])\n",
    "    stuff_documents_chain = create_stuff_documents_chain(llm, prompt)\n",
    "\n",
    "    return create_retrieval_chain(retriever_chain, stuff_documents_chain)"
   ]
  },
  {
   "cell_type": "code",
   "execution_count": 9,
   "metadata": {},
   "outputs": [
    {
     "name": "stderr",
     "output_type": "stream",
     "text": [
      "Number of requested results 4 is greater than number of elements in index 3, updating n_results = 3\n"
     ]
    },
    {
     "name": "stdout",
     "output_type": "stream",
     "text": [
      "The latest version of Streamlit is version 1.43.0, released on March 4, 2025."
     ]
    }
   ],
   "source": [
    "# Augmented Generation\n",
    "\n",
    "llm_stream_openai = ChatOpenAI(\n",
    "    model=\"gpt-4o\",  # Here you could use \"o1-preview\" or \"o1-mini\" if you already have access to them\n",
    "    temperature=0.3,\n",
    "    streaming=True,\n",
    ")\n",
    "\n",
    "llm_stream_anthropic = ChatAnthropic(\n",
    "    model=\"claude-3-5-sonnet-20240620\",\n",
    "    temperature=0.3,\n",
    "    streaming=True,\n",
    ")\n",
    "\n",
    "llm_stream = llm_stream_openai  # Select between OpenAI and Anthropic models for the response\n",
    "\n",
    "messages = [\n",
    "    {\"role\": \"user\", \"content\": \"Hi\"},\n",
    "    {\"role\": \"assistant\", \"content\": \"Hi there! How can I assist you today?\"},\n",
    "    {\"role\": \"user\", \"content\": \"What is the latest version of Streamlit?\"},\n",
    "]\n",
    "messages = [HumanMessage(content=m[\"content\"]) if m[\"role\"] == \"user\" else AIMessage(content=m[\"content\"]) for m in messages]\n",
    "\n",
    "conversation_rag_chain = get_conversational_rag_chain(llm_stream)\n",
    "response_message = \"*(RAG Response)*\\n\"\n",
    "for chunk in conversation_rag_chain.pick(\"answer\").stream({\"messages\": messages[:-1], \"input\": messages[-1].content}):\n",
    "    response_message += chunk\n",
    "    print(chunk, end=\"\", flush=True)\n",
    "\n",
    "messages.append({\"role\": \"assistant\", \"content\": response_message})"
   ]
  },
  {
   "cell_type": "code",
   "execution_count": null,
   "metadata": {},
   "outputs": [],
   "source": []
  },
  {
   "cell_type": "code",
   "execution_count": 2,
   "metadata": {},
   "outputs": [
    {
     "name": "stdout",
     "output_type": "stream",
     "text": [
      "Sure! Microsoft Azure, commonly referred to as Azure, is a cloud computing platform and service created by Microsoft. It provides a wide range of cloud services, including those for computing, analytics, storage, and networking. Users can choose and configure these services to develop and scale new applications or run existing applications in the public cloud.\n",
      "\n",
      "Here are some key aspects of Azure:\n",
      "\n",
      "1. **Compute Services**: Azure offers virtual machines, containers, and serverless computing options. This includes Azure Virtual Machines, Azure Kubernetes Service (AKS), and Azure Functions.\n",
      "\n",
      "2. **Storage Solutions**: Azure provides scalable cloud storage solutions such as Azure Blob Storage, Azure Disk Storage, and Azure File Storage. These services cater to different data storage needs, from unstructured data to persistent disk storage.\n",
      "\n",
      "3. **Networking**: Azure offers a variety of networking services, including Azure Virtual Network, Azure Load Balancer, and Azure Application Gateway. These services help in building secure and high-performance network architectures.\n",
      "\n",
      "4. **Databases**: Azure supports multiple database services, including Azure SQL Database, Azure Cosmos DB, and Azure Database for MySQL, PostgreSQL, and MariaDB. These managed database services offer high availability, scalability, and security.\n",
      "\n",
      "5. **AI and Machine Learning**: Azure provides a suite of AI and machine learning services, such as Azure Machine Learning, Azure Cognitive Services, and Azure Bot Service. These tools help developers build intelligent applications.\n",
      "\n",
      "6. **Analytics**: Azure offers a range of analytics services, including Azure Synapse Analytics, Azure HDInsight, and Azure Data Lake Analytics. These services enable big data processing and advanced analytics.\n",
      "\n",
      "7. **DevOps**: Azure DevOps provides development tools for continuous integration and continuous delivery (CI/CD). It includes services like Azure Pipelines, Azure Repos, and Azure Artifacts.\n",
      "\n",
      "8. **Security and Compliance**: Azure emphasizes security with services like Azure Security Center, Azure Active Directory, and Azure Key Vault. It also complies with numerous international and industry-specific standards.\n",
      "\n",
      "9. **IoT**: Azure IoT Hub and Azure IoT Central are services designed to connect, monitor, and manage IoT devices at scale.\n",
      "\n",
      "10. **Hybrid Cloud**: Azure supports hybrid cloud environments with services like Azure Arc and Azure Stack, allowing businesses to run Azure services on-premises or in other cloud environments.\n",
      "\n",
      "11. **Management and Governance**: Azure provides tools for managing and governing cloud resources, such as Azure Policy, Azure Cost Management, and Azure Monitor.\n",
      "\n",
      "Azure is known for its global reach, with data centers in numerous regions worldwide, providing low-latency access and data residency options. It supports a wide range of programming languages, frameworks, and operating systems, making it a versatile choice for developers and enterprises.\n",
      "\n",
      "Overall, Azure is a comprehensive cloud platform that helps organizations innovate, scale, and manage their IT resources efficiently."
     ]
    }
   ],
   "source": [
    "import os\n",
    "from langchain_openai import AzureChatOpenAI\n",
    "import dotenv\n",
    "\n",
    "dotenv.load_dotenv()\n",
    "\n",
    "llm_stream = AzureChatOpenAI(\n",
    "    azure_endpoint=os.getenv(\"AZ_OPENAI_ENDPOINT\"),\n",
    "    openai_api_version=\"2024-02-15-preview\",\n",
    "    model_name=\"gpt-4o\",\n",
    "    openai_api_key=os.getenv(\"AZ_OPENAI_API_KEY\"),\n",
    "    openai_api_type=\"azure\",\n",
    "    temperature=0.3,\n",
    "    streaming=True,\n",
    ")\n",
    "\n",
    "prompt = \"Tell me something about Azure\"\n",
    "\n",
    "for chunk in llm_stream.stream(prompt):\n",
    "    print(chunk.content, end=\"\", flush=True)"
   ]
  }
 ],
 "metadata": {
  "kernelspec": {
   "display_name": "venv",
   "language": "python",
   "name": "python3"
  },
  "language_info": {
   "codemirror_mode": {
    "name": "ipython",
    "version": 3
   },
   "file_extension": ".py",
   "mimetype": "text/x-python",
   "name": "python",
   "nbconvert_exporter": "python",
   "pygments_lexer": "ipython3",
   "version": "3.13.2"
  }
 },
 "nbformat": 4,
 "nbformat_minor": 2
}
